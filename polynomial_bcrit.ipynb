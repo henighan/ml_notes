{
 "cells": [
  {
   "cell_type": "markdown",
   "metadata": {},
   "source": [
    "I'd like to consider the case where we have a variable, $x$, drawn from a unit normal distribution\n",
    "$p(x) = \\frac{1}{\\sqrt{\\pi}} e^{x^2}$\n",
    "\n",
    "And a variable $y$, which is a function of $x$. Speficically, a $d$-order polynomial\n",
    "\n",
    "$ y(x) = \\sum_{i=1}^d \\alpha_i x^i $"
   ]
  },
  {
   "cell_type": "markdown",
   "metadata": {},
   "source": [
    "We can save ourselves some trouble if we make a change of basis to Hermite polynomials, defined such that\n",
    "$ \\int_{-\\infty}^\\infty H_m(x) H_n(x) p(x) dx = \\delta_{mn} $"
   ]
  },
  {
   "cell_type": "markdown",
   "metadata": {},
   "source": [
    "$ y(x) = \\sum_{i=1}^n \\beta_i H_i(x) $\n",
    "\n",
    "where\n",
    "\n",
    "$ \\beta_i = \\int_{-\\infty}^{\\infty} y(x) H_i(x) = \\sum_{j=1}^d \\alpha_j \\int_{-\\infty}^{\\infty} x^j H_i(x) $"
   ]
  },
  {
   "cell_type": "markdown",
   "metadata": {},
   "source": [
    "We can rewrite as\n",
    "$ y(x) = \\beta^T h\\ (x) $\n",
    "\n",
    "where\n",
    "$ h\\ (x)_i = H_i(x) $"
   ]
  },
  {
   "cell_type": "markdown",
   "metadata": {},
   "source": [
    "$ L = \\frac{1}{2} (\\hat{y}(x) - y(x))^2 = \\frac{1}{2} ((\\hat{\\beta} - \\beta)^T h(x))^2 $\n",
    "\n",
    "Allow me to define $G \\equiv E[ \\nabla_{\\hat{\\beta}} L]$\n",
    "\n",
    "$ G = E[ (\\hat{\\beta}^T h(x) - \\beta^T h(x)) h(x) ] $\n",
    "\n",
    "Here the hermite basis starts to treat us kindly. Notice that\n",
    "\n",
    "$ G = E[ \\sum_{j=1}^d (\\hat{\\beta}_j - \\beta_j) h(x)_j h(x)_i ] $\n",
    "\n",
    "$ G = \\int_{-\\infty}^{\\infty} \\sum_{j=1}^d (\\hat{\\beta}_j - \\beta_j) H_j(x) H_i(x) p(x) = \\hat{\\beta}_i - \\beta_i $\n",
    "\n",
    "Thanks to the hermite polynomials' orthorgonality. Thus\n",
    "\n",
    "$ G = \\hat{\\beta} - \\beta $"
   ]
  },
  {
   "cell_type": "markdown",
   "metadata": {},
   "source": [
    "$ \\Sigma \\equiv G G^T = E \\bigg[ \\big( ( \\hat{\\beta} - \\beta )^T h(x) \\big)^2 h(x) h(x)^T \\bigg]  = E[ 2 \\ L \\ h(x) h(x)^T ] $"
   ]
  },
  {
   "cell_type": "markdown",
   "metadata": {},
   "source": [
    "$ tr(\\Sigma) = E \\bigg[ \\big( ( \\hat{\\beta} - \\beta )^T h(x) \\big)^2 h(x) h(x)^T \\bigg]  $"
   ]
  }
 ],
 "metadata": {
  "kernelspec": {
   "display_name": "Python 3",
   "language": "python",
   "name": "python3"
  },
  "language_info": {
   "codemirror_mode": {
    "name": "ipython",
    "version": 3
   },
   "file_extension": ".py",
   "mimetype": "text/x-python",
   "name": "python",
   "nbconvert_exporter": "python",
   "pygments_lexer": "ipython3",
   "version": "3.6.4"
  }
 },
 "nbformat": 4,
 "nbformat_minor": 2
}
